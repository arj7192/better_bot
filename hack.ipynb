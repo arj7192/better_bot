{
 "cells": [
  {
   "cell_type": "code",
   "execution_count": null,
   "metadata": {},
   "outputs": [],
   "source": [
    "import requests\n",
    "\n",
    "# Fill in your details here to be posted to the login form.\n",
    "payload = {\n",
    "    'login.Email': 'your_username',\n",
    "    'login.Password': 'your_password'\n",
    "}\n",
    "\n",
    "# Use 'with' to ensure the session context is closed after use.\n",
    "with requests.Session() as s:\n",
    "    \n",
    "    # first request to get cookies\n",
    "    o = s.get('https://better.legendonlineservices.co.uk/Tower_Ham_-_Mile_End/account/login?')\n",
    "    \n",
    "    # login\n",
    "    p = s.post('https://better.legendonlineservices.co.uk/tower_ham_-_mile_end/account/login?', \n",
    "               data=payload,\n",
    "               cookies = o.cookies.get_dict())\n",
    "    \n",
    "    # fetch booking page info\n",
    "    q = s.get('https://better.legendonlineservices.co.uk/tower_ham_-_mile_end/BookingsCentre/Index')\n",
    "    print(q.text)"
   ]
  },
  {
   "cell_type": "code",
   "execution_count": null,
   "metadata": {},
   "outputs": [],
   "source": [
    "!pip3 install selenium"
   ]
  },
  {
   "cell_type": "code",
   "execution_count": null,
   "metadata": {},
   "outputs": [],
   "source": [
    "from selenium import webdriver\n",
    "from selenium.webdriver.common.keys import Keys\n",
    "\n",
    "driver = webdriver.PhantomJS('/Users/ashishranjanjha/Downloads/phantomjs-2.1.1-macosx/bin/phantomjs')\n",
    "driver.get('https://better.legendonlineservices.co.uk/Tower_Ham_-_Mile_End/account/login?')\n",
    "\n",
    "username = driver.find_element_by_name('login.Email')\n",
    "password = driver.find_element_by_name('login.Password')\n",
    "\n",
    "username.send_keys('your_username')\n",
    "password.send_keys('your_password')\n",
    "# password.send_keys(Keys.RETURN)\n",
    "\n",
    "# driver.close()"
   ]
  },
  {
   "cell_type": "code",
   "execution_count": null,
   "metadata": {},
   "outputs": [],
   "source": [
    "driver.get('https://better.legendonlineservices.co.uk/Tower_Ham_-_Mile_End/account/home?')"
   ]
  },
  {
   "cell_type": "code",
   "execution_count": null,
   "metadata": {},
   "outputs": [],
   "source": [
    "driver.save_screenshot(\"/Users/ashishranjanjha/Desktop/aaaa.png\")"
   ]
  },
  {
   "cell_type": "code",
   "execution_count": null,
   "metadata": {},
   "outputs": [],
   "source": [
    "from selenium import webdriver\n",
    "from selenium.webdriver.firefox.options import Options\n",
    "\n",
    "options = Options()\n",
    "options.headless = True\n",
    "driver = webdriver.Firefox(options=options)\n",
    "\n",
    "driver.get('https://better.legendonlineservices.co.uk/Tower_Ham_-_Mile_End/account/home?')\n",
    "\n",
    "username = driver.find_element_by_name('login.Email')\n",
    "password = driver.find_element_by_name('login.Password')\n",
    "\n",
    "username.send_keys('your_username')\n",
    "password.send_keys('your_password')\n"
   ]
  },
  {
   "cell_type": "code",
   "execution_count": null,
   "metadata": {},
   "outputs": [],
   "source": [
    "driver.get('https://better.legendonlineservices.co.uk/Tower_Ham_-_Mile_End/account/home?')"
   ]
  },
  {
   "cell_type": "code",
   "execution_count": null,
   "metadata": {},
   "outputs": [],
   "source": [
    "driver.save_screenshot(\"/Users/ashishranjanjha/Desktop/aaaa.png\")"
   ]
  },
  {
   "cell_type": "code",
   "execution_count": null,
   "metadata": {},
   "outputs": [],
   "source": [
    "driver.get_cookies()"
   ]
  },
  {
   "cell_type": "code",
   "execution_count": null,
   "metadata": {},
   "outputs": [],
   "source": []
  },
  {
   "cell_type": "code",
   "execution_count": null,
   "metadata": {},
   "outputs": [],
   "source": []
  },
  {
   "cell_type": "code",
   "execution_count": null,
   "metadata": {},
   "outputs": [],
   "source": []
  },
  {
   "cell_type": "code",
   "execution_count": null,
   "metadata": {},
   "outputs": [],
   "source": []
  },
  {
   "cell_type": "code",
   "execution_count": null,
   "metadata": {},
   "outputs": [],
   "source": []
  },
  {
   "cell_type": "code",
   "execution_count": null,
   "metadata": {},
   "outputs": [],
   "source": []
  },
  {
   "cell_type": "code",
   "execution_count": null,
   "metadata": {},
   "outputs": [],
   "source": []
  },
  {
   "cell_type": "code",
   "execution_count": null,
   "metadata": {},
   "outputs": [],
   "source": []
  },
  {
   "cell_type": "code",
   "execution_count": 94,
   "metadata": {},
   "outputs": [],
   "source": [
    "import requests\n",
    "from selenium import webdriver\n",
    "from selenium.webdriver.firefox.options import Options\n",
    "\n",
    "options = Options()\n",
    "options.headless = True\n",
    "driver = webdriver.Firefox()\n",
    "url1 = 'https://better.legendonlineservices.co.uk/Tower_Ham_-_Mile_End/account/login' #a redirect to a login page occurs\n",
    "url2 = 'https://better.legendonlineservices.co.uk/Tower_Ham_-_Mile_End/account/home' #a redirect to a login page occurs\n",
    "url3 = 'https://better.legendonlineservices.co.uk/tower_ham_-_mile_end/BookingsCentre/Index'\n",
    "url4 = 'https://better.legendonlineservices.co.uk/tower_ham_-_mile_end/BookingsCentre/Timetable?KeepThis=true&'\n",
    "url7 = 'https://better.legendonlineservices.co.uk/tower_ham_-_mile_end/Basket/Pay'\n",
    "\n",
    "driver.get(url1)\n",
    "\n",
    "#storing the cookies generated by the browser\n",
    "request_cookies_browser = driver.get_cookies()\n",
    "\n",
    "#making a persistent connection using the requests library\n",
    "params =  {\n",
    "    'login.Email': 'your_username',\n",
    "    'login.Password': 'your_password'\n",
    "}\n",
    "\n",
    "s = requests.Session()\n",
    "\n",
    "#passing the cookies generated from the browser to the session\n",
    "c = [s.cookies.set(c['name'], c['value']) for c in request_cookies_browser]\n",
    "\n",
    "resp = s.post(url1, params) #I get a 200 status_code\n",
    "\n",
    "#passing the cookie of the response to the browser\n",
    "dict_resp_cookies = resp.cookies.get_dict()\n",
    "response_cookies_browser = [{'name':name, 'value':value} for name, value in dict_resp_cookies.items()]\n",
    "c = [driver.add_cookie(c) for c in response_cookies_browser]\n",
    "\n",
    "#the browser now contains the cookies generated from the authentication    \n",
    "driver.get(url2)"
   ]
  },
  {
   "cell_type": "code",
   "execution_count": 95,
   "metadata": {},
   "outputs": [],
   "source": []
  },
  {
   "cell_type": "code",
   "execution_count": 96,
   "metadata": {},
   "outputs": [],
   "source": [
    "driver.get(url3)"
   ]
  },
  {
   "cell_type": "code",
   "execution_count": 97,
   "metadata": {},
   "outputs": [],
   "source": [
    "driver.find_element_by_xpath(\n",
    "    \".//*[contains(text(), 'Badminton Court - 6')]\"\n",
    ").click()"
   ]
  },
  {
   "cell_type": "code",
   "execution_count": 98,
   "metadata": {},
   "outputs": [],
   "source": [
    "driver.execute_script('viewTimetable()')"
   ]
  },
  {
   "cell_type": "code",
   "execution_count": null,
   "metadata": {},
   "outputs": [],
   "source": []
  },
  {
   "cell_type": "code",
   "execution_count": null,
   "metadata": {},
   "outputs": [],
   "source": []
  },
  {
   "cell_type": "code",
   "execution_count": 99,
   "metadata": {},
   "outputs": [],
   "source": []
  },
  {
   "cell_type": "code",
   "execution_count": null,
   "metadata": {},
   "outputs": [],
   "source": [
    "driver.get(url4)"
   ]
  },
  {
   "cell_type": "code",
   "execution_count": null,
   "metadata": {},
   "outputs": [],
   "source": [
    "xx = driver.find_elements_by_class_name('sporthallSlotAddLink')[0]\n",
    "slot = ''.join([i for i in xx.get_attribute('id') if not i.isalpha()])"
   ]
  },
  {
   "cell_type": "code",
   "execution_count": null,
   "metadata": {},
   "outputs": [],
   "source": []
  },
  {
   "cell_type": "code",
   "execution_count": 100,
   "metadata": {},
   "outputs": [],
   "source": [
    "s = requests.Session()\n",
    "\n",
    "#passing the cookies generated from the browser to the session\n",
    "c = [s.cookies.set(c['name'], c['value']) for c in driver.get_cookies()]\n",
    "\n",
    "rr = s.get(url4)"
   ]
  },
  {
   "cell_type": "code",
   "execution_count": 101,
   "metadata": {},
   "outputs": [
    {
     "data": {
      "text/plain": [
       "[<a class=\"sporthallSlotAddLink\" href=\"#\" id=\"slot6072164\" onclick=\"selectResourceLocation(6072164); return false;\">4 Available</a>,\n",
       " <a class=\"sporthallSlotAddLink\" href=\"#\" id=\"slot6099010\" onclick=\"selectResourceLocation(6099010); return false;\">4 Available</a>,\n",
       " <a class=\"sporthallSlotAddLink\" href=\"#\" id=\"slot6152259\" onclick=\"selectResourceLocation(6152259); return false;\">4 Available</a>,\n",
       " <a class=\"sporthallSlotAddLink\" href=\"#\" id=\"slot6157435\" onclick=\"selectResourceLocation(6157435); return false;\">4 Available</a>,\n",
       " <a class=\"sporthallSlotAddLink\" href=\"#\" id=\"slot6192541\" onclick=\"selectResourceLocation(6192541); return false;\">3 Available</a>,\n",
       " <a class=\"sporthallSlotAddLink\" href=\"#\" id=\"slot6240280\" onclick=\"selectResourceLocation(6240280); return false;\">4 Available</a>,\n",
       " <a class=\"sporthallSlotAddLink\" href=\"#\" id=\"slot6279284\" onclick=\"selectResourceLocation(6279284); return false;\">4 Available</a>,\n",
       " <a class=\"sporthallSlotAddLink\" href=\"#\" id=\"slot6330482\" onclick=\"selectResourceLocation(6330482); return false;\">4 Available</a>,\n",
       " <a class=\"sporthallSlotAddLink\" href=\"#\" id=\"slot6337315\" onclick=\"selectResourceLocation(6337315); return false;\">4 Available</a>,\n",
       " <a class=\"sporthallSlotAddLink\" href=\"#\" id=\"slot6403127\" onclick=\"selectResourceLocation(6403127); return false;\">4 Available</a>,\n",
       " <a class=\"sporthallSlotAddLink\" href=\"#\" id=\"slot6420795\" onclick=\"selectResourceLocation(6420795); return false;\">2 Available</a>,\n",
       " <a class=\"sporthallSlotAddLink\" href=\"#\" id=\"slot6403778\" onclick=\"selectResourceLocation(6403778); return false;\">1 Available</a>,\n",
       " <a class=\"sporthallSlotAddLink\" href=\"#\" id=\"slot6404303\" onclick=\"selectResourceLocation(6404303); return false;\">1 Available</a>,\n",
       " <a class=\"sporthallSlotAddLink\" href=\"#\" id=\"slot6459941\" onclick=\"selectResourceLocation(6459941); return false;\">4 Available</a>,\n",
       " <a class=\"sporthallSlotAddLink\" href=\"#\" id=\"slot6499748\" onclick=\"selectResourceLocation(6499748); return false;\">4 Available</a>,\n",
       " <a class=\"sporthallSlotAddLink\" href=\"#\" id=\"slot6493153\" onclick=\"selectResourceLocation(6493153); return false;\">4 Available</a>,\n",
       " <a class=\"sporthallSlotAddLink\" href=\"#\" id=\"slot6505818\" onclick=\"selectResourceLocation(6505818); return false;\">4 Available</a>,\n",
       " <a class=\"sporthallSlotAddLink\" href=\"#\" id=\"slot6495407\" onclick=\"selectResourceLocation(6495407); return false;\">4 Available</a>]"
      ]
     },
     "execution_count": 101,
     "metadata": {},
     "output_type": "execute_result"
    }
   ],
   "source": [
    "from bs4 import BeautifulSoup\n",
    "soup = BeautifulSoup(rr.text)\n",
    "\n",
    "soup.findAll(\"a\", {\"class\": \"sporthallSlotAddLink\"})"
   ]
  },
  {
   "cell_type": "code",
   "execution_count": 102,
   "metadata": {},
   "outputs": [],
   "source": [
    "xx = soup.findAll(\"a\", {\"class\": \"sporthallSlotAddLink\"})[-8]\n",
    "slot = ''.join([i for i in xx.get('id') if not i.isalpha()])"
   ]
  },
  {
   "cell_type": "code",
   "execution_count": 103,
   "metadata": {},
   "outputs": [],
   "source": [
    "driver.execute_script(f'selectResourceLocation({slot});')"
   ]
  },
  {
   "cell_type": "code",
   "execution_count": null,
   "metadata": {},
   "outputs": [],
   "source": []
  },
  {
   "cell_type": "code",
   "execution_count": null,
   "metadata": {},
   "outputs": [],
   "source": []
  },
  {
   "cell_type": "code",
   "execution_count": 104,
   "metadata": {},
   "outputs": [],
   "source": []
  },
  {
   "cell_type": "code",
   "execution_count": null,
   "metadata": {},
   "outputs": [],
   "source": [
    "url5 = f'https://better.legendonlineservices.co.uk/tower_ham_-_mile_end//BookingsCentre/SelectResourceLocation?slotId={slot}&KeepThis=true&'"
   ]
  },
  {
   "cell_type": "code",
   "execution_count": null,
   "metadata": {},
   "outputs": [],
   "source": [
    "driver.get(url5)"
   ]
  },
  {
   "cell_type": "code",
   "execution_count": null,
   "metadata": {},
   "outputs": [],
   "source": [
    "driver.find_elements_by_xpath(\n",
    "    \".//*[contains(text(), 'Court')]\"\n",
    ")"
   ]
  },
  {
   "cell_type": "code",
   "execution_count": null,
   "metadata": {},
   "outputs": [],
   "source": [
    "xxx = driver.find_elements_by_xpath(\n",
    "    \".//*[contains(text(), 'mins Court')]\"\n",
    ")[0]"
   ]
  },
  {
   "cell_type": "code",
   "execution_count": null,
   "metadata": {},
   "outputs": [],
   "source": [
    "xxx"
   ]
  },
  {
   "cell_type": "code",
   "execution_count": null,
   "metadata": {},
   "outputs": [],
   "source": [
    "v = xxx.get_attribute('value')"
   ]
  },
  {
   "cell_type": "code",
   "execution_count": null,
   "metadata": {},
   "outputs": [],
   "source": [
    "xxx.click()"
   ]
  },
  {
   "cell_type": "code",
   "execution_count": null,
   "metadata": {},
   "outputs": [],
   "source": []
  },
  {
   "cell_type": "code",
   "execution_count": 105,
   "metadata": {},
   "outputs": [],
   "source": [
    "rr = s.get(url5)"
   ]
  },
  {
   "cell_type": "code",
   "execution_count": 106,
   "metadata": {},
   "outputs": [
    {
     "data": {
      "text/plain": [
       "[<option selected=\"selected\" value=\"-1\">Any</option>,\n",
       " <option value=\"2089\">SH 60 mins Court 3</option>,\n",
       " <option value=\"2090\">SH 60 mins Court 4</option>]"
      ]
     },
     "execution_count": 106,
     "metadata": {},
     "output_type": "execute_result"
    }
   ],
   "source": [
    "soup = BeautifulSoup(rr.text)\n",
    "soup.findAll(\"option\")"
   ]
  },
  {
   "cell_type": "code",
   "execution_count": 107,
   "metadata": {},
   "outputs": [],
   "source": [
    "values = [f.get('value') for f in soup.findAll(\"option\") if f.get('value') != '-1']"
   ]
  },
  {
   "cell_type": "code",
   "execution_count": 108,
   "metadata": {},
   "outputs": [],
   "source": [
    "v = values[0]"
   ]
  },
  {
   "cell_type": "code",
   "execution_count": 109,
   "metadata": {},
   "outputs": [
    {
     "data": {
      "text/plain": [
       "'2089'"
      ]
     },
     "execution_count": 109,
     "metadata": {},
     "output_type": "execute_result"
    }
   ],
   "source": [
    "v"
   ]
  },
  {
   "cell_type": "code",
   "execution_count": 110,
   "metadata": {},
   "outputs": [
    {
     "data": {
      "text/plain": [
       "'6420795'"
      ]
     },
     "execution_count": 110,
     "metadata": {},
     "output_type": "execute_result"
    }
   ],
   "source": [
    "slot"
   ]
  },
  {
   "cell_type": "code",
   "execution_count": 111,
   "metadata": {},
   "outputs": [],
   "source": [
    "driver.execute_script(f'confirmCourtSelect({slot}, {v})')"
   ]
  },
  {
   "cell_type": "code",
   "execution_count": 112,
   "metadata": {},
   "outputs": [],
   "source": [
    "url6 = 'https://better.legendonlineservices.co.uk/tower_ham_-_mile_end/Basket/Index'"
   ]
  },
  {
   "cell_type": "code",
   "execution_count": 113,
   "metadata": {},
   "outputs": [],
   "source": [
    "driver.get(url6)"
   ]
  },
  {
   "cell_type": "code",
   "execution_count": 117,
   "metadata": {},
   "outputs": [],
   "source": [
    "driver.find_element_by_xpath(\n",
    "    \".//*[contains(text(), 'Use Voucher')]\"\n",
    ").click()"
   ]
  },
  {
   "cell_type": "code",
   "execution_count": 119,
   "metadata": {},
   "outputs": [],
   "source": [
    "driver.get(url7)"
   ]
  },
  {
   "cell_type": "code",
   "execution_count": null,
   "metadata": {},
   "outputs": [],
   "source": []
  }
 ],
 "metadata": {
  "kernelspec": {
   "display_name": "Python 3",
   "language": "python",
   "name": "python3"
  },
  "language_info": {
   "codemirror_mode": {
    "name": "ipython",
    "version": 3
   },
   "file_extension": ".py",
   "mimetype": "text/x-python",
   "name": "python",
   "nbconvert_exporter": "python",
   "pygments_lexer": "ipython3",
   "version": "3.7.0"
  }
 },
 "nbformat": 4,
 "nbformat_minor": 2
}
